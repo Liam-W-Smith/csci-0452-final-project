{
 "cells": [
  {
   "cell_type": "markdown",
   "metadata": {},
   "source": [
    "From https://pdal.io/en/2.6.0/tutorial/iowa-entwine.html#install-pdal\n",
    "\n",
    "First, follow their instructions for installing pdal.\n",
    "\n",
    "Then run the code below (I copied their `iowa.json` and `dem-colors.txt` files)"
   ]
  },
  {
   "cell_type": "code",
   "execution_count": null,
   "metadata": {},
   "outputs": [],
   "source": [
    "!pdal pipeline iowa.json --debug"
   ]
  },
  {
   "cell_type": "code",
   "execution_count": null,
   "metadata": {},
   "outputs": [],
   "source": [
    "!gdaldem color-relief iowa.tif dem-colors.txt iowa-color.png"
   ]
  },
  {
   "cell_type": "markdown",
   "metadata": {},
   "source": [
    "PDAL is a C++ library for handling point cloud data.\n",
    "PDAL provides some Python support and understanding that more completely would require reading their documentation: https://pdal.io/en/2.7-maintenance/python.html#python"
   ]
  },
  {
   "cell_type": "markdown",
   "metadata": {},
   "source": []
  }
 ],
 "metadata": {
  "kernelspec": {
   "display_name": "iowa",
   "language": "python",
   "name": "python3"
  },
  "language_info": {
   "name": "python",
   "version": "3.12.2"
  }
 },
 "nbformat": 4,
 "nbformat_minor": 2
}
