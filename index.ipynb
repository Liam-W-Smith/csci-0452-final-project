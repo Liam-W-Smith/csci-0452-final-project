{
 "cells": [
  {
   "cell_type": "markdown",
   "id": "c086e04c-efb0-41b0-a403-8602b4a32165",
   "metadata": {},
   "source": [
    "# Title\n",
    "\n",
    "This is a test"
   ]
  },
  {
   "cell_type": "code",
   "execution_count": 1,
   "id": "4de92141-98dc-4766-9393-f6d1b10cf0ab",
   "metadata": {},
   "outputs": [
    {
     "data": {
      "text/plain": [
       "2"
      ]
     },
     "execution_count": 1,
     "metadata": {},
     "output_type": "execute_result"
    }
   ],
   "source": [
    "1 + 1"
   ]
  },
  {
   "cell_type": "code",
   "execution_count": null,
   "id": "503c5b30-f86e-4f2c-902e-720be4db23d3",
   "metadata": {},
   "outputs": [],
   "source": []
  }
 ],
 "metadata": {
  "kernelspec": {
   "display_name": "Python 3 (ipykernel)",
   "language": "python",
   "name": "python3"
  },
  "language_info": {
   "codemirror_mode": {
    "name": "ipython",
    "version": 3
   },
   "file_extension": ".py",
   "mimetype": "text/x-python",
   "name": "python",
   "nbconvert_exporter": "python",
   "pygments_lexer": "ipython3",
   "version": "3.12.1"
  }
 },
 "nbformat": 4,
 "nbformat_minor": 5
}
