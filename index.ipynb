{
 "cells": [
  {
   "cell_type": "raw",
   "id": "d724c8f3-4837-4c18-b687-20d5b0289e54",
   "metadata": {},
   "source": [
    "---\n",
    "title: Machine Learning for Road Segmentation\n",
    "subtitle: Image Processing Final Project\n",
    "author: Alex Oh, Aiden Pape, and Liam Smith\n",
    "date: '2024-05-15'\n",
    "format: html\n",
    "---"
   ]
  },
  {
   "cell_type": "markdown",
   "id": "c086e04c-efb0-41b0-a403-8602b4a32165",
   "metadata": {},
   "source": [
    "# Title\n",
    "\n",
    "This is a test"
   ]
  },
  {
   "cell_type": "code",
   "execution_count": 1,
   "id": "4de92141-98dc-4766-9393-f6d1b10cf0ab",
   "metadata": {},
   "outputs": [
    {
     "data": {
      "text/plain": [
       "2"
      ]
     },
     "execution_count": 1,
     "metadata": {},
     "output_type": "execute_result"
    }
   ],
   "source": [
    "1 + 1"
   ]
  },
  {
   "cell_type": "code",
   "execution_count": 3,
   "id": "503c5b30-f86e-4f2c-902e-720be4db23d3",
   "metadata": {},
   "outputs": [
    {
     "name": "stdout",
     "output_type": "stream",
     "text": [
      "0\n",
      "1\n",
      "2\n",
      "3\n",
      "4\n",
      "5\n",
      "6\n",
      "7\n",
      "8\n",
      "9\n"
     ]
    }
   ],
   "source": [
    "for i in range(10):\n",
    "    print(i)"
   ]
  },
  {
   "cell_type": "code",
   "execution_count": null,
   "id": "f6a20df7-969c-4bd8-8334-bf52c3648d02",
   "metadata": {},
   "outputs": [],
   "source": []
  }
 ],
 "metadata": {
  "kernelspec": {
   "display_name": "Python 3 (ipykernel)",
   "language": "python",
   "name": "python3"
  },
  "language_info": {
   "codemirror_mode": {
    "name": "ipython",
    "version": 3
   },
   "file_extension": ".py",
   "mimetype": "text/x-python",
   "name": "python",
   "nbconvert_exporter": "python",
   "pygments_lexer": "ipython3",
   "version": "3.12.1"
  }
 },
 "nbformat": 4,
 "nbformat_minor": 5
}
