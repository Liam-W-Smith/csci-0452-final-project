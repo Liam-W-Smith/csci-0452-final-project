{
 "cells": [
  {
   "cell_type": "raw",
   "id": "d724c8f3-4837-4c18-b687-20d5b0289e54",
   "metadata": {},
   "source": [
    "---\n",
    "title: Machine Learning for Road Segmentation\n",
    "subtitle: Image Processing Final Project\n",
    "author: Alex Oh, Aiden Pape, and Liam Smith\n",
    "date: '2024-05-15'\n",
    "format: html\n",
    "---"
   ]
  },
  {
   "cell_type": "markdown",
   "id": "c086e04c-efb0-41b0-a403-8602b4a32165",
   "metadata": {},
   "source": [
    "# Title\n",
    "\n",
    "This is a test"
   ]
  },
  {
   "cell_type": "code",
   "execution_count": 1,
   "id": "4de92141-98dc-4766-9393-f6d1b10cf0ab",
   "metadata": {},
   "outputs": [
    {
     "data": {
      "text/plain": [
       "2"
      ]
     },
     "execution_count": 1,
     "metadata": {},
     "output_type": "execute_result"
    }
   ],
   "source": [
    "1 + 1"
   ]
  },
  {
   "cell_type": "markdown",
   "id": "f8e744e7-48b4-426b-9710-3d7c0e403dab",
   "metadata": {},
   "source": [
    "Notice how the code chunk below does not show by default, but its output does!"
   ]
  },
  {
   "cell_type": "code",
   "execution_count": 3,
   "id": "503c5b30-f86e-4f2c-902e-720be4db23d3",
   "metadata": {},
   "outputs": [
    {
     "name": "stdout",
     "output_type": "stream",
     "text": [
      "0\n",
      "1\n",
      "2\n",
      "3\n",
      "4\n",
      "5\n",
      "6\n",
      "7\n",
      "8\n",
      "9\n"
     ]
    }
   ],
   "source": [
    "# code-fold: true\n",
    "for i in range(10):\n",
    "    print(i)"
   ]
  },
  {
   "cell_type": "code",
   "execution_count": null,
   "id": "f6a20df7-969c-4bd8-8334-bf52c3648d02",
   "metadata": {},
   "outputs": [],
   "source": [
    "# FUnctions\n",
    "# Function to compute DICE\n",
    "smooth=1\n",
    "def dice_coef(y_true, y_pred):\n",
    "    intersection = np.sum(y_true * y_pred)\n",
    "    return (2. * intersection + smooth) / (np.sum(y_true) + np.sum(y_pred) + smooth)\n",
    "        \n",
    "# Function to print several accuracy metrics\n",
    "def accuracy_metrics(y_true, y_pred):\n",
    "    # Create confusion matrix\n",
    "    C = confusion_matrix(y_true, y_pred, labels=(True, False))\n",
    "\n",
    "    # Overall accuracy rate\n",
    "    acc = (C[0,0] + C[1,1])/C.sum()\n",
    "\n",
    "    # Recall\n",
    "    recall = (C[0,0])/(C[0,0] + C[1,0])\n",
    "    \n",
    "    # Precision\n",
    "    prec = (C[0,0])/(C[0,0] + C[0,1])\n",
    "\n",
    "    # DICE\n",
    "    dice = dice_coef(y_true, y_pred)\n",
    "\n",
    "\n",
    "    # Print results\n",
    "    print(\"Confusion matrix:\\n\", C)\n",
    "    print(\"Overall accuracy:\", np.round(acc, 3), \"\\nPrecision:\", np.round(recall, 3),\n",
    "            \"\\nRecall\", np.round(prec, 3), \"\\nDICE:\", np.round(dice, 3))\n",
    "\n",
    "# Function to create input layer\n",
    "def classify_gray(image):\n",
    "\n",
    "    # Compute the standard deviation of the r, g, and b channels\n",
    "    std_dev = np.std(image, axis = 2)\n",
    "\n",
    "    # Define a threshold for classifying gray pixels\n",
    "    diff_threshold = 6 # Adjust as needed\n",
    "\n",
    "    # Classify pixels as gray or not gray based on the standard deviation\n",
    "    gray_mask = std_dev < diff_threshold\n",
    "        \n",
    "    return gray_mask\n",
    "    \n",
    "# Function to compute layers for additional model features\n",
    "def compute_features(img, include_categorical = True):    \n",
    "    # Range of values (gray pixels will have low range)\n",
    "    r = img.max(axis = 2) - img.min(axis = 2)\n",
    "\n",
    "    if include_categorical:\n",
    "        \n",
    "        # Canny edge detection\n",
    "        canny_edges_r = feature.canny(img[:,:,0], sigma=4)\n",
    "        canny_edges_g = feature.canny(img[:,:,1], sigma=4)\n",
    "        canny_edges_b = feature.canny(img[:,:,2], sigma=4)\n",
    "\n",
    "         # Calculation Canny gradient\n",
    "        image_gray = rgb2gray(img)\n",
    "        canny_edges = feature.canny(image_gray, sigma=3)\n",
    "    \n",
    "        # Create disk\n",
    "        disk = skm.disk(1)\n",
    "    \n",
    "        # Area closing for hough lines\n",
    "        closed_edges = skm.dilation(canny_edges, footprint = disk)\n",
    "        closed_edges = closed_edges * 255\n",
    "    \n",
    "        lines = transform.probabilistic_hough_line(closed_edges, threshold=5, line_length=25, line_gap=3)\n",
    "        hough_lines = np.zeros(image_gray.shape, dtype=np.uint8)\n",
    "    \n",
    "        # Draw the detected lines on the canvas\n",
    "        for line in lines:\n",
    "            p0, p1 = line\n",
    "            # Draw line segment\n",
    "            rr, cc = draw.line(p0[1], p0[0], p1[1], p1[0])\n",
    "            hough_lines[rr, cc] = 255  # Set the pixel values to white (255) along the line\n",
    "    \n",
    "        #create gray mask\n",
    "        gray_mask = classify_gray(img)\n",
    "        gray_mask = gray_mask.reshape((img.shape[0], img.shape[1]))\n",
    "    \n",
    "\n",
    "        img = np.dstack([img, canny_edges_r, canny_edges_g, canny_edges_b, gray_mask, hough_lines])\n",
    "        \n",
    "    \n",
    "    # Gaussian blur sigma = 1\n",
    "    gaus_r_1 = gaussian_filter(img[:,:,0], sigma = 1)\n",
    "    gaus_g_1 = gaussian_filter(img[:,:,1], sigma = 1)\n",
    "    gaus_b_1 = gaussian_filter(img[:,:,2], sigma = 1)\n",
    "    \n",
    "    # Gaussian blur sigma = 3\n",
    "    gaus_r_3 = gaussian_filter(img[:,:,0], sigma = 3)\n",
    "    gaus_g_3 = gaussian_filter(img[:,:,1], sigma = 3)\n",
    "    gaus_b_3 = gaussian_filter(img[:,:,2], sigma = 3)\n",
    "\n",
    "    # Gaussian blur sigma = 5\n",
    "    gaus_r_5 = gaussian_filter(img[:,:,0], sigma = 5)\n",
    "    gaus_g_5 = gaussian_filter(img[:,:,1], sigma = 5)\n",
    "    gaus_b_5 = gaussian_filter(img[:,:,2], sigma = 5)\n",
    "    \n",
    "    # LoG blur sigma = .5\n",
    "    log_r_5 = gaussian_laplace(img[:,:,0], sigma = .5)\n",
    "    log_g_5 = gaussian_laplace(img[:,:,1], sigma = .5)\n",
    "    log_b_5 = gaussian_laplace(img[:,:,2], sigma = .5)\n",
    "    \n",
    "    # LoG blur sigma = .6\n",
    "    log_r_6 = gaussian_laplace(img[:,:,0], sigma = .6)\n",
    "    log_g_6 = gaussian_laplace(img[:,:,1], sigma = .6)\n",
    "    log_b_6 = gaussian_laplace(img[:,:,2], sigma = .6)\n",
    "    \n",
    "    # LoG blur sigma = .8\n",
    "    log_r_8 = gaussian_laplace(img[:,:,0], sigma = .8)\n",
    "    log_g_8 = gaussian_laplace(img[:,:,1], sigma = .8)\n",
    "    log_b_8 = gaussian_laplace(img[:,:,2], sigma = .8)\n",
    "    \n",
    "    # Add layers to model\n",
    "    return np.dstack([img, r,\n",
    "                     gaus_r_1, gaus_g_1, gaus_b_1, gaus_r_3, gaus_g_3, gaus_b_3,\n",
    "                     gaus_r_5, gaus_g_5, gaus_b_5, log_r_5, log_g_5, log_b_5,\n",
    "                     log_r_6, log_g_6, log_b_6, log_r_8, log_g_8, log_b_8])"
   ]
  }
 ],
 "metadata": {
  "kernelspec": {
   "display_name": "Python 3 (ipykernel)",
   "language": "python",
   "name": "python3"
  },
  "language_info": {
   "codemirror_mode": {
    "name": "ipython",
    "version": 3
   },
   "file_extension": ".py",
   "mimetype": "text/x-python",
   "name": "python",
   "nbconvert_exporter": "python",
   "pygments_lexer": "ipython3",
   "version": "3.12.1"
  }
 },
 "nbformat": 4,
 "nbformat_minor": 5
}
